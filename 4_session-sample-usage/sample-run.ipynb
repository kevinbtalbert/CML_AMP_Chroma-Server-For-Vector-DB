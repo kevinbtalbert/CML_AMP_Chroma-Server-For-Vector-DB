{
 "cells": [
  {
   "cell_type": "code",
   "execution_count": 18,
   "id": "b331a3ae-f63b-47c1-bfae-6e1efc5062b9",
   "metadata": {
    "tags": []
   },
   "outputs": [],
   "source": [
    "## Initialize a connection to the running Chroma DB server\n",
    "import chromadb\n",
    "import os\n",
    "\n",
    "chroma_client = chromadb.HttpClient(host='https://chroma.ml-b74f8940-b97.go01-dem.ylcu-atmi.cloudera.site/', port=int(os.environ['CDSW_APP_PORT']))"
   ]
  },
  {
   "cell_type": "code",
   "execution_count": 25,
   "id": "c4b448f4-877d-4854-9c17-9247441b5b4f",
   "metadata": {
    "tags": []
   },
   "outputs": [
    {
     "name": "stdout",
     "output_type": "stream",
     "text": [
      "initialising Chroma DB connection...\n",
      "Getting 'cml-default' as object...\n",
      "Success\n",
      "Total number of embeddings in Chroma DB index is 0\n"
     ]
    }
   ],
   "source": [
    "from chromadb.utils import embedding_functions\n",
    "EMBEDDING_MODEL_REPO = \"sentence-transformers/all-mpnet-base-v2\"\n",
    "EMBEDDING_MODEL_NAME = \"all-mpnet-base-v2\"\n",
    "EMBEDDING_FUNCTION = embedding_functions.SentenceTransformerEmbeddingFunction(model_name=EMBEDDING_MODEL_NAME)\n",
    "\n",
    "COLLECTION_NAME = 'cml-default'\n",
    "\n",
    "print(\"initialising Chroma DB connection...\")\n",
    "\n",
    "print(f\"Getting '{COLLECTION_NAME}' as object...\")\n",
    "try:\n",
    "    chroma_client.get_collection(name=COLLECTION_NAME, embedding_function=EMBEDDING_FUNCTION)\n",
    "    print(\"Success\")\n",
    "    collection = chroma_client.get_collection(name=COLLECTION_NAME, embedding_function=EMBEDDING_FUNCTION)\n",
    "except:\n",
    "    print(\"Creating new collection...\")\n",
    "    collection = chroma_client.create_collection(name=COLLECTION_NAME, embedding_function=EMBEDDING_FUNCTION)\n",
    "    print(\"Success\")\n",
    "\n",
    "# Get latest statistics from index\n",
    "current_collection_stats = collection.count()\n",
    "print('Total number of embeddings in Chroma DB index is ' + str(current_collection_stats))\n"
   ]
  },
  {
   "cell_type": "code",
   "execution_count": null,
   "id": "9e0835b3-87e3-4d67-abe2-6c6538f8f488",
   "metadata": {},
   "outputs": [],
   "source": []
  }
 ],
 "metadata": {
  "kernelspec": {
   "display_name": "Python 3 (ipykernel)",
   "language": "python",
   "name": "python3"
  },
  "language_info": {
   "codemirror_mode": {
    "name": "ipython",
    "version": 3
   },
   "file_extension": ".py",
   "mimetype": "text/x-python",
   "name": "python",
   "nbconvert_exporter": "python",
   "pygments_lexer": "ipython3",
   "version": "3.10.9"
  }
 },
 "nbformat": 4,
 "nbformat_minor": 5
}
