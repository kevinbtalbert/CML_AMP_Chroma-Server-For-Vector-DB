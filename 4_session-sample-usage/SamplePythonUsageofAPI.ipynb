{
 "cells": [
  {
   "cell_type": "code",
   "execution_count": null,
   "id": "c6d78940-255a-4318-8b50-21a54e82ccb5",
   "metadata": {},
   "outputs": [],
   "source": [
    "#!pip install chromadb-client (Already installed if using with AMP deployment)"
   ]
  },
  {
   "cell_type": "code",
   "execution_count": null,
   "id": "2e367ac4-5e1c-4aba-9ce1-60113f4c7fbf",
   "metadata": {
    "tags": []
   },
   "outputs": [
    {
     "name": "stdout",
     "output_type": "stream",
     "text": [
      "https://127.0.0.1:8090/\n"
     ]
    }
   ],
   "source": [
    "import requests\n",
    "import json\n",
    "import os\n",
    "import chromadb-client\n",
    "\n",
    "# URL to send the POST request to\n",
    "external_url = \"https://ml-b74f8940-b97.go01-dem.ylcu-atmi.cloudera.site/\"\n",
    "internal_url = \"https://127.0.0.1:\" + str(os.environ['CDSW_APP_PORT']) + \"/\"\n",
    "print(\"External URL access: \" + external_url) ## Access outside of CML/platform (ensure unauthenticated access flag set if outside platform)\n",
    "print(\"Internal URL access: \" + internal_url) ## Access within CML\n",
    "\n",
    "# Example setup of the client to connect to your chroma server\n",
    "# NOTE: Chroma DB Server Application must be running for this line to work.\n",
    "client = chromadb.HttpClient(host=\"127.0.0.1\", port=int(os.environ['CDSW_APP_PORT']))\n",
    "\n",
    "# Setup collection\n",
    "COLLECTION_NAME = os.getenv('COLLECTION_NAME')\n",
    "collection = client.get_collection(COLLECTION_NAME)"
   ]
  },
  {
   "cell_type": "code",
   "execution_count": null,
   "id": "c6024939-1131-4ec3-8e52-2248a82eafd7",
   "metadata": {},
   "outputs": [],
   "source": [
    "## Add to Chroma vector DB\n",
    "collection.add(\n",
    "    documents=[\"This is document1\", \"This is document2\"],\n",
    "    metadatas=[{\"source\": \"notion\"}, {\"source\": \"google-docs\"}], # filter on these!\n",
    "    ids=[\"doc1\", \"doc2\"], # unique for each doc\n",
    "    embeddings = [[1.2, 2.1, ...], [1.2, 2.1, ...]]\n",
    ")"
   ]
  },
  {
   "cell_type": "code",
   "execution_count": null,
   "id": "4ad26fd7-ac33-4861-afe1-44da315ddf01",
   "metadata": {},
   "outputs": [],
   "source": [
    "## Query Chroma vector DB\n",
    "results = collection.query(\n",
    "    query_texts=[\"What is Apache Iceberg?\"],\n",
    "    n_results=2,\n",
    "    # where={\"metadata_field\": \"is_equal_to_this\"}, # optional filter\n",
    "    # where_document={\"$contains\":\"search_string\"}  # optional filter\n",
    ")"
   ]
  }
 ],
 "metadata": {
  "kernelspec": {
   "display_name": "Python 3 (ipykernel)",
   "language": "python",
   "name": "python3"
  },
  "language_info": {
   "codemirror_mode": {
    "name": "ipython",
    "version": 3
   },
   "file_extension": ".py",
   "mimetype": "text/x-python",
   "name": "python",
   "nbconvert_exporter": "python",
   "pygments_lexer": "ipython3",
   "version": "3.9.16"
  }
 },
 "nbformat": 4,
 "nbformat_minor": 5
}
